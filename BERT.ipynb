{
 "cells": [
  {
   "cell_type": "code",
   "execution_count": null,
   "id": "dbf25b0b",
   "metadata": {},
   "outputs": [],
   "source": [
    "import math\n",
    "import re\n",
    "from random import *\n",
    "import numpy as np\n",
    "import torch\n",
    "import torch.nn as nn\n",
    "import torch.optim as optim"
   ]
  },
  {
   "cell_type": "markdown",
   "id": "79dbd20e",
   "metadata": {},
   "source": [
    "### Preprocessing"
   ]
  },
  {
   "cell_type": "code",
   "execution_count": null,
   "id": "b78285bf",
   "metadata": {},
   "outputs": [],
   "source": [
    "text = (\n",
    "        'Hello, how are you? I am Romeo.\\n'\n",
    "        'Hello, Romeo My name is Juliet. Nice to meet you.\\n'\n",
    "        'Nice meet you too. How are you today?\\n'\n",
    "        'Great. My baseball team won the competition.\\n'\n",
    "        'Oh Congratulations, Juliet\\n'\n",
    "        'Thanks you Romeo'\n",
    "    )\n",
    "\n",
    "corpus = (\n",
    "    \"baabaac\",\n",
    "    \"aababc\",\n",
    "    \"bcaaaa\",\n",
    "    \"aac\",\n",
    "    \"bbbaabbaa\",\n",
    "    \"bbbbbbabc\",\n",
    "    \"ababc\",\n",
    "    \"babc\",\n",
    "    \"bcaaca\",\n",
    "    \"aabbaaac\",\n",
    ")\n",
    "corpus_vocabuary = ('a', 'b', 'c')"
   ]
  },
  {
   "cell_type": "code",
   "execution_count": null,
   "id": "53d7355d",
   "metadata": {},
   "outputs": [],
   "source": [
    "# Special Toks:\n",
    "#   [CLS]: Required to remove the 0 from positional meaning & use it to represent a sentence\n",
    "#   [PAD]: Required to standardize sequence length for batch processing\n",
    "#   [MSK]: Required to mask out the target prediction tokens in the input\n",
    "\n",
    "spec_tok_dict = {'[PAD]': 0, '[MSK]': 1, '[CLS]': 2}\n",
    "spec_idx_dict = {idx: word for word, idx in spec_tok_dict.items()}\n",
    "idx_dict = {}\n",
    "tok_dict = {}\n",
    "tok_list = []\n",
    "\n",
    "# word dict\n",
    "for tok, idx in spec_tok_dict.items():\n",
    "    tok_dict[tok] = idx\n",
    "for idx, tok in enumerate(corpus_vocabuary):\n",
    "    tok_dict[tok] = idx + len(spec_tok_dict)\n",
    "\n",
    "for tok, idx in tok_dict.items():\n",
    "    idx_dict[idx] = tok\n",
    "    tok_list.append(tok)"
   ]
  },
  {
   "cell_type": "code",
   "execution_count": null,
   "id": "13d995fc",
   "metadata": {},
   "outputs": [],
   "source": [
    "print(spec_tok_dict)\n",
    "print(spec_idx_dict)\n",
    "print(idx_dict)\n",
    "print(tok_dict)\n",
    "print(tok_list)"
   ]
  },
  {
   "cell_type": "code",
   "execution_count": null,
   "id": "e08c5de2",
   "metadata": {},
   "outputs": [],
   "source": [
    "maxlen = 10    # max sentence length\n",
    "batch_size = 4\n",
    "#\n",
    "pred_min = 2    # min number of predicted tokens\n",
    "pred_max = 4    # max number of predicted tokens, required for standardized shapes in batch\n",
    "pred_freq = 0.15 # token prediction freq\n",
    "#\n",
    "d_model = 32"
   ]
  },
  {
   "cell_type": "code",
   "execution_count": null,
   "id": "6015f0f9",
   "metadata": {},
   "outputs": [],
   "source": [
    "sample_idx = 0\n",
    "sentence = corpus[sample_idx]\n",
    "\n",
    "# sentence to idx vectors\n",
    "# -) tokenize\n",
    "tokens = list(sentence)\n",
    "\n",
    "# 2) replace with vocabulary idcs\n",
    "tok_list = [tok_dict[tok] for tok in tokens]\n",
    "tok_list = np.array(tok_list)\n",
    "\n",
    "# 3) calculate the number of predctions\n",
    "n_preds = int(round(len(tok_list) * pred_freq))\n",
    "n_preds = min(max(pred_min, n_preds), pred_max)\n",
    "\n",
    "# 4) create MASKS\n",
    "mask_idcs = np.random.choice(len(tok_list), size=n_preds, replace=False)\n",
    "mask_toks = tok_list[mask_idcs]\n",
    "tok_list[mask_idcs] = tok_dict[\"[MSK]\"]\n",
    "np.pad(mask_toks, (0, pred_max), mode=\"constant\")\n",
    "\n",
    "# 5) PAD\n",
    "n_pad = maxlen - len(tok_list)\n",
    "tok_list = np.pad(tok_list, (1, n_pad - 1), mode='constant')\n",
    "\n",
    "# ADD CLS Token to start\n",
    "tok_list[0] = tok_dict['[CLS]']"
   ]
  },
  {
   "cell_type": "code",
   "execution_count": null,
   "id": "bd01471a",
   "metadata": {},
   "outputs": [],
   "source": [
    "print(\"sentence:  \", corpus[sample_idx])\n",
    "print(\"sentence:  \", [idx_dict[idx] for idx in tok_list])\n",
    "print(\"mask idcs:  \", mask_idcs)\n",
    "print(\"mask toks: \", [idx_dict[idx] for idx in mask_toks])"
   ]
  },
  {
   "cell_type": "code",
   "execution_count": null,
   "id": "05a63de5",
   "metadata": {},
   "outputs": [],
   "source": [
    "print(tok_list)\n",
    "print([idx_dict[idx] for idx in tok_list])\n",
    "print(mask_idcs)\n",
    "print([idx_dict[idx] for idx in mask_toks])"
   ]
  },
  {
   "cell_type": "code",
   "execution_count": null,
   "id": "f3f90eae",
   "metadata": {},
   "outputs": [],
   "source": [
    "def get_batch(sentences):\n",
    "    all_toks_list = []\n",
    "    all_mask_idcs = []\n",
    "    all_mask_toks = []\n",
    "    for sentence in sentences:\n",
    "        tokens = list(sentence)\n",
    "\n",
    "        # 2) replace with vocabulary idcs\n",
    "        tok_list = [tok_dict[tok] for tok in tokens]\n",
    "        tok_list = np.array(tok_list)\n",
    "\n",
    "        # 3) calculate the number of predctions\n",
    "        n_preds = int(round(len(tok_list) * pred_freq))\n",
    "        n_preds = min(max(pred_min, n_preds), pred_max)\n",
    "\n",
    "        # 4) create MASKS\n",
    "        mask_idcs = np.random.choice(len(tok_list), size=n_preds, replace=False)\n",
    "        mask_toks = tok_list[mask_idcs]\n",
    "        tok_list[mask_idcs] = tok_dict[\"[MSK]\"]\n",
    "        # add 1 to mask idxs since we added one position in the front\n",
    "        mask_idcs += 1\n",
    "        mask_idcs = np.pad(mask_idcs, (0, pred_max), mode=\"constant\")\n",
    "\n",
    "        # 5) PAD\n",
    "        n_pad = maxlen - len(tok_list)\n",
    "        tok_list = np.pad(tok_list, (1, n_pad - 1), mode='constant')\n",
    "\n",
    "        # ADD CLS Token to start\n",
    "        tok_list[0] = tok_dict['[CLS]']\n",
    "        \n",
    "        all_toks_list.append(tok_list)\n",
    "        all_mask_idcs.append(mask_idcs)\n",
    "        all_mask_toks.append(mask_toks)\n",
    "        \n",
    "    return all_toks_list, all_mask_idcs, all_mask_toks"
   ]
  },
  {
   "cell_type": "code",
   "execution_count": null,
   "id": "752fb3e4",
   "metadata": {},
   "outputs": [],
   "source": [
    "batch = get_batch(corpus[:batch_size])\n",
    "all_toks_list, all_mask_idcs, all_mask_toks  = map(torch.LongTensor, batch)"
   ]
  },
  {
   "cell_type": "code",
   "execution_count": null,
   "id": "965aadbb",
   "metadata": {},
   "outputs": [],
   "source": [
    "all_toks_list"
   ]
  },
  {
   "cell_type": "code",
   "execution_count": null,
   "id": "9b2fe7d0",
   "metadata": {},
   "outputs": [],
   "source": [
    "all_mask_idcs"
   ]
  },
  {
   "cell_type": "code",
   "execution_count": null,
   "id": "51434dfc",
   "metadata": {},
   "outputs": [],
   "source": [
    "all_mask_toks"
   ]
  },
  {
   "cell_type": "code",
   "execution_count": null,
   "id": "62e77302",
   "metadata": {},
   "outputs": [],
   "source": [
    "for toks in all_toks_list:\n",
    "    print([idx_dict[idx.item()] for idx in toks])"
   ]
  },
  {
   "cell_type": "code",
   "execution_count": null,
   "id": "422a364f",
   "metadata": {},
   "outputs": [],
   "source": [
    "corpus[:batch_size]"
   ]
  },
  {
   "cell_type": "code",
   "execution_count": null,
   "id": "5fb8e85f",
   "metadata": {},
   "outputs": [],
   "source": [
    "for mt in all_mask_toks:\n",
    "    print([idx_dict[idx.item()] for idx in mt])"
   ]
  },
  {
   "cell_type": "markdown",
   "id": "05a9b088",
   "metadata": {},
   "source": [
    "## Embedding"
   ]
  },
  {
   "cell_type": "code",
   "execution_count": null,
   "id": "e6db0099",
   "metadata": {},
   "outputs": [],
   "source": []
  },
  {
   "cell_type": "code",
   "execution_count": null,
   "id": "91c932dd",
   "metadata": {},
   "outputs": [],
   "source": [
    "tok_list\n",
    "mask_idcs\n",
    "mask_toks"
   ]
  },
  {
   "cell_type": "code",
   "execution_count": null,
   "id": "739d3899",
   "metadata": {},
   "outputs": [],
   "source": [
    "def make_batch():\n",
    "    batch = []\n",
    "    positive = negative = 0\n",
    "    while positive != batch_size/2 or negative != batch_size/2:\n",
    "        tokens_a_index, tokens_b_index= randrange(len(sentences)), randrange(len(sentences))\n",
    "        tokens_a, tokens_b= token_list[tokens_a_index], token_list[tokens_b_index]\n",
    "\n",
    "        input_ids = [word_dict['[CLS]']] + tokens_a + [word_dict['[SEP]']] + tokens_b + [word_dict['[SEP]']]\n",
    "\n",
    "        segment_ids = [0] * (1 + len(tokens_a) + 1) + [1] * (len(tokens_b) + 1)\n",
    "\n",
    "        #MASK LM\n",
    "        n_pred =  min(max_pred, max(1, int(round(len(input_ids) * 0.15)))) # 15 % of tokens in one sentence\n",
    "\n",
    "        cand_maked_pos = [i for i, token in enumerate(input_ids)\n",
    "                          if token != word_dict['[CLS]'] and token != word_dict['[SEP]']]\n",
    "        shuffle(cand_maked_pos)\n",
    "        masked_tokens, masked_pos = [], []\n",
    "        for pos in cand_maked_pos[:n_pred]:\n",
    "            masked_pos.append(pos)\n",
    "            masked_tokens.append(input_ids[pos])\n",
    "            if random() < 0.8:  # 80%\n",
    "                input_ids[pos] = word_dict['[MASK]'] # make mask\n",
    "            elif random() < 0.5:  # 10%\n",
    "                index = randint(0, vocab_size - 1) # random index in vocabulary\n",
    "                input_ids[pos] = word_dict[number_dict[index]] # replace\n",
    "\n",
    "        # Zero Paddings\n",
    "        n_pad = maxlen - len(input_ids)\n",
    "        input_ids.extend([0] * n_pad)\n",
    "        segment_ids.extend([0] * n_pad)\n",
    "\n",
    "    #     # Zero Padding (100% - 15%) tokens\n",
    "        if max_pred > n_pred:\n",
    "            n_pad = max_pred - n_pred\n",
    "            masked_tokens.extend([0] * n_pad)\n",
    "            masked_pos.extend([0] * n_pad)\n",
    "\n",
    "        if tokens_a_index + 1 == tokens_b_index and positive < batch_size/2:\n",
    "            batch.append([input_ids, segment_ids, masked_tokens, masked_pos, True]) # IsNext\n",
    "            positive += 1\n",
    "        elif tokens_a_index + 1 != tokens_b_index and negative < batch_size/2:\n",
    "            batch.append([input_ids, segment_ids, masked_tokens, masked_pos, False]) # NotNext\n",
    "            negative += 1\n",
    "    return batch\n",
    "\n",
    "        "
   ]
  },
  {
   "cell_type": "code",
   "execution_count": null,
   "id": "a3242f96",
   "metadata": {},
   "outputs": [],
   "source": [
    "def get_attn_pad_mask(seq_q, seq_k):\n",
    "    batch_size, len_q = seq_q.size()\n",
    "    batch_size, len_k = seq_k.size()\n",
    "    # eq(zero) is PAD token\n",
    "    pad_attn_mask = seq_k.data.eq(0).unsqueeze(1)  # batch_size x 1 x len_k(=len_q), one is masking\n",
    "    return pad_attn_mask.expand(batch_size, len_q, len_k)  # batch_size x len_q x len_k\n",
    "\n",
    "def gelu(x):\n",
    "    return x * 0.5 * (1.0 + torch.erf(x / math.sqrt(2.0)))"
   ]
  },
  {
   "cell_type": "code",
   "execution_count": null,
   "id": "03e4a468",
   "metadata": {},
   "outputs": [],
   "source": [
    " batch = make_batch()"
   ]
  },
  {
   "cell_type": "code",
   "execution_count": null,
   "id": "7cbe361a",
   "metadata": {},
   "outputs": [],
   "source": [
    "input_ids, segment_ids, masked_tokens, masked_pos, isNext = map(torch.LongTensor, zip(*batch))"
   ]
  },
  {
   "cell_type": "code",
   "execution_count": null,
   "id": "7caae58d",
   "metadata": {},
   "outputs": [],
   "source": [
    "len(input_idcs)"
   ]
  },
  {
   "cell_type": "code",
   "execution_count": null,
   "id": "135b4f5c",
   "metadata": {},
   "outputs": [],
   "source": [
    "input_ids[0]"
   ]
  },
  {
   "cell_type": "code",
   "execution_count": null,
   "id": "3eba1092",
   "metadata": {},
   "outputs": [],
   "source": [
    "[number_dict[idx.item()] for idx in input_ids[0] if idx.item() != 0]"
   ]
  },
  {
   "cell_type": "code",
   "execution_count": null,
   "id": "26b38e00",
   "metadata": {},
   "outputs": [],
   "source": [
    "[number_dict[idx.item()] for idx in masked_tokens[0]]"
   ]
  },
  {
   "cell_type": "code",
   "execution_count": null,
   "id": "29be9558",
   "metadata": {},
   "outputs": [],
   "source": [
    "masked_pos[0]"
   ]
  },
  {
   "cell_type": "code",
   "execution_count": null,
   "id": "9c7c4293",
   "metadata": {},
   "outputs": [],
   "source": [
    "get_attn_pad_mask(input_ids, input_ids)[0][0], input_ids[0]"
   ]
  },
  {
   "cell_type": "code",
   "execution_count": null,
   "id": "f979188e",
   "metadata": {},
   "outputs": [],
   "source": [
    "class Embedding(nn.Module):\n",
    "    def __init__(self):\n",
    "        super(Embedding, self).__init__()\n",
    "        self.tok_embed = nn.Embedding(vocab_size, d_model)  # token embedding\n",
    "        self.pos_embed = nn.Embedding(maxlen, d_model)  # position embedding\n",
    "        self.seg_embed = nn.Embedding(n_segments, d_model)  # segment(token type) embedding\n",
    "        self.norm = nn.LayerNorm(d_model)\n",
    "\n",
    "    def forward(self, x, seg):\n",
    "        seq_len = x.size(1)\n",
    "        pos = torch.arange(seq_len, dtype=torch.long)\n",
    "        pos = pos.unsqueeze(0).expand_as(x)  # (seq_len,) -> (batch_size, seq_len)\n",
    "        embedding = self.tok_embed(x) + self.pos_embed(pos) + self.seg_embed(seg)\n",
    "        return self.norm(embedding)"
   ]
  },
  {
   "cell_type": "code",
   "execution_count": null,
   "id": "c52476a7",
   "metadata": {},
   "outputs": [],
   "source": [
    "class ScaledDotProductAttention(nn.Module):\n",
    "    def __init__(self):\n",
    "        super(ScaledDotProductAttention, self).__init__()\n",
    "\n",
    "    def forward(self, Q, K, V, attn_mask):\n",
    "        scores = torch.matmul(Q, K.transpose(-1, -2)) / np.sqrt(d_k) # scores : [batch_size x n_heads x len_q(=len_k) x len_k(=len_q)]\n",
    "        scores.masked_fill_(attn_mask, -1e9) # Fills elements of self tensor with value where mask is one.\n",
    "        attn = nn.Softmax(dim=-1)(scores)\n",
    "        context = torch.matmul(attn, V)\n",
    "        return context, attn "
   ]
  },
  {
   "cell_type": "code",
   "execution_count": null,
   "id": "df4ec88e",
   "metadata": {},
   "outputs": [],
   "source": [
    "batch = make_batch()\n",
    "input_ids, segment_ids, masked_tokens, masked_pos, isNext = map(torch.LongTensor, zip(*batch))\n",
    "\n",
    "emb = Embedding()\n",
    "embeds = emb(input_ids, segment_ids)\n",
    "\n",
    "attenM = get_attn_pad_mask(input_ids, input_ids)\n",
    "\n",
    "SDPA= ScaledDotProductAttention()(embeds, embeds, embeds, attenM)\n",
    "\n",
    "S, C, A = SDPA"
   ]
  },
  {
   "cell_type": "code",
   "execution_count": null,
   "id": "9b9009df",
   "metadata": {},
   "outputs": [],
   "source": [
    "print('Scores: ', S[0][0],'\\n\\nAttention M: ', A[0][0])"
   ]
  },
  {
   "cell_type": "code",
   "execution_count": null,
   "id": "de514e83",
   "metadata": {},
   "outputs": [],
   "source": [
    "class MultiHeadAttention(nn.Module):\n",
    "    def __init__(self):\n",
    "        super(MultiHeadAttention, self).__init__()\n",
    "        self.W_Q = nn.Linear(d_model, d_k * n_heads)\n",
    "        self.W_K = nn.Linear(d_model, d_k * n_heads)\n",
    "        self.W_V = nn.Linear(d_model, d_v * n_heads)\n",
    "    def forward(self, Q, K, V, attn_mask):\n",
    "        # q: [batch_size x len_q x d_model], k: [batch_size x len_k x d_model], v: [batch_size x len_k x d_model]\n",
    "        residual, batch_size = Q, Q.size(0)\n",
    "        # (B, S, D) -proj-> (B, S, D) -split-> (B, S, H, W) -trans-> (B, H, S, W)\n",
    "        q_s = self.W_Q(Q).view(batch_size, -1, n_heads, d_k).transpose(1,2)  # q_s: [batch_size x n_heads x len_q x d_k]\n",
    "        k_s = self.W_K(K).view(batch_size, -1, n_heads, d_k).transpose(1,2)  # k_s: [batch_size x n_heads x len_k x d_k]\n",
    "        v_s = self.W_V(V).view(batch_size, -1, n_heads, d_v).transpose(1,2)  # v_s: [batch_size x n_heads x len_k x d_v]\n",
    "\n",
    "        attn_mask = attn_mask.unsqueeze(1).repeat(1, n_heads, 1, 1) # attn_mask : [batch_size x n_heads x len_q x len_k]\n",
    "\n",
    "        # context: [batch_size x n_heads x len_q x d_v], attn: [batch_size x n_heads x len_q(=len_k) x len_k(=len_q)]\n",
    "        context, attn = ScaledDotProductAttention()(q_s, k_s, v_s, attn_mask)\n",
    "        context = context.transpose(1, 2).contiguous().view(batch_size, -1, n_heads * d_v) # context: [batch_size x len_q x n_heads * d_v]\n",
    "        output = nn.Linear(n_heads * d_v, d_model)(context)\n",
    "        return nn.LayerNorm(d_model)(output + residual), attn # output: [batch_size x len_q x d_model]\n"
   ]
  },
  {
   "cell_type": "code",
   "execution_count": null,
   "id": "2548ab75",
   "metadata": {},
   "outputs": [],
   "source": [
    "emb = Embedding()\n",
    "embeds = emb(input_ids, segment_ids)\n",
    "\n",
    "attenM = get_attn_pad_mask(input_ids, input_ids)\n",
    "\n",
    "MHA = MultiHeadAttention()(embeds, embeds, embeds, attenM)\n",
    "Output, A = MHA"
   ]
  },
  {
   "cell_type": "code",
   "execution_count": null,
   "id": "382f9b78",
   "metadata": {},
   "outputs": [],
   "source": [
    "print(Output.shape)\n",
    "print(A.shape)"
   ]
  },
  {
   "cell_type": "code",
   "execution_count": null,
   "id": "b5ae8681",
   "metadata": {},
   "outputs": [],
   "source": []
  }
 ],
 "metadata": {
  "kernelspec": {
   "display_name": "Python 3",
   "language": "python",
   "name": "python3"
  },
  "language_info": {
   "codemirror_mode": {
    "name": "ipython",
    "version": 3
   },
   "file_extension": ".py",
   "mimetype": "text/x-python",
   "name": "python",
   "nbconvert_exporter": "python",
   "pygments_lexer": "ipython3",
   "version": "3.8.10"
  },
  "latex_envs": {
   "LaTeX_envs_menu_present": true,
   "autoclose": false,
   "autocomplete": true,
   "bibliofile": "biblio.bib",
   "cite_by": "apalike",
   "current_citInitial": 1,
   "eqLabelWithNumbers": true,
   "eqNumInitial": 1,
   "hotkeys": {
    "equation": "Ctrl-E",
    "itemize": "Ctrl-I"
   },
   "labels_anchors": false,
   "latex_user_defs": false,
   "report_style_numbering": false,
   "user_envs_cfg": false
  }
 },
 "nbformat": 4,
 "nbformat_minor": 5
}
