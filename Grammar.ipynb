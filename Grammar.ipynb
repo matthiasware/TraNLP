{
 "cells": [
  {
   "cell_type": "code",
   "execution_count": 1,
   "id": "f6d0526b",
   "metadata": {},
   "outputs": [],
   "source": [
    "from random import choice\n",
    "from nltk import CFG\n",
    "from nltk import PCFG\n",
    "import numpy as np\n",
    "from timeit import default_timer as timer\n",
    "from datetime import timedelta\n",
    "import nltk"
   ]
  },
  {
   "cell_type": "markdown",
   "id": "6bf7e023",
   "metadata": {},
   "source": [
    "#### About\n",
    "- Implementation for sampling from probabilistic context free grammars\n",
    "\n",
    "#### Resources\n",
    "- https://lost-contact.mit.edu/afs/cs.pitt.edu/projects/nltk/docs/tutorial/pcfg/nochunks.html"
   ]
  },
  {
   "cell_type": "code",
   "execution_count": 2,
   "id": "8edaa75b",
   "metadata": {},
   "outputs": [],
   "source": [
    "def sec_to_ms(s):\n",
    "    m, s = divmod(s, 60)\n",
    "    return '{:0>2} min {:.2f} sec'.format(m, s)"
   ]
  },
  {
   "cell_type": "code",
   "execution_count": 165,
   "id": "f09a0f5e",
   "metadata": {},
   "outputs": [],
   "source": [
    "class Grammar():\n",
    "    def __init__(self):\n",
    "        self._G = None\n",
    "\n",
    "    def from_string(self, string):\n",
    "        self._G = PCFG.fromstring(string)\n",
    "        self._parser = nltk.ViterbiParser(self._G)\n",
    "        return self\n",
    "    \n",
    "    def sample(self, n=10):\n",
    "        #return [' '.join(self._produce(self._G, self._G.start())) for _ in range(n)]\n",
    "        return [self._produce(self._G, self._G.start()) for _ in range(n)]\n",
    "\n",
    "    def _produce(self, grammar, symbol):\n",
    "        words = []\n",
    "        productions = grammar.productions(lhs = symbol)\n",
    "        if len(productions) == 0:\n",
    "            raise Exception(\"No rules to further expand available: lhs={}\".format(symbol))\n",
    "        all_probs = [p.prob() for p in productions]\n",
    "        production = np.random.choice(productions, size=1, replace=True, p=all_probs)[0]\n",
    "        for sym in production.rhs():\n",
    "            if isinstance(sym, str):\n",
    "                words.append(sym)\n",
    "            else:\n",
    "                words.extend(self._produce(grammar, sym))\n",
    "        return words\n",
    "    \n",
    "    def is_valid(self, sentence):\n",
    "        parsed = self._parser.parse(sentence)\n",
    "        for subtree in parsed:\n",
    "            if type(subtree) == nltk.tree.ProbabilisticTree and subtree.label() == 'S':\n",
    "                return True\n",
    "        return False\n",
    "    \n",
    "    def get_probs(self, sentence):\n",
    "        parsed = self._parser.parse(sentence)\n",
    "        probs = []\n",
    "        for subtree in parsed:\n",
    "            if type(subtree) == nltk.tree.ProbabilisticTree and subtree.label() == 'S':\n",
    "                probs.append(subtree.prob())\n",
    "        if len(probs) > 0:\n",
    "            return probs\n",
    "        raise Exception(\"Input is not a valid sentence!\")\n",
    "    \n",
    "    def parse(self, sentence):\n",
    "        return self._parser.parse(sentence)"
   ]
  },
  {
   "cell_type": "markdown",
   "id": "7751a875",
   "metadata": {},
   "source": [
    "### Simple Grammar"
   ]
  },
  {
   "cell_type": "code",
   "execution_count": 166,
   "id": "421fa2a0",
   "metadata": {},
   "outputs": [
    {
     "name": "stdout",
     "output_type": "stream",
     "text": [
      "aabbababc\n",
      "babbbc\n",
      "abac\n",
      "aaabbbbbaababaaabaaac\n",
      "abaaaabaaabbbababbc\n",
      "abc\n",
      "bc\n",
      "babc\n",
      "abc\n",
      "ac\n"
     ]
    }
   ],
   "source": [
    "g = \"\"\"\n",
    "S -> A [1.0]\n",
    "A -> 'a'B [0.5] | 'b'B [0.5]\n",
    "B -> A [0.8] | 'c' [0.2]\n",
    "\"\"\"\n",
    "G = Grammar().from_string(g)\n",
    "samples = G.sample(10)\n",
    "\n",
    "for sample in samples:\n",
    "    print(\"\".join(sample))\n",
    "    assert G.is_valid(sample)"
   ]
  },
  {
   "cell_type": "code",
   "execution_count": 167,
   "id": "d0f2ed1f",
   "metadata": {},
   "outputs": [
    {
     "name": "stdout",
     "output_type": "stream",
     "text": [
      "[['a', 'b'], ['a', 'a', 'b'], ['a', 'b'], ['a', 'a', 'b'], ['a', 'a', 'b'], ['a', 'b'], ['a', 'b'], ['a', 'a', 'a', 'b'], ['a', 'b'], ['a', 'b']]\n",
      "True\n"
     ]
    }
   ],
   "source": [
    "g = \"\"\"\n",
    "S -> 'a' A [1.0]\n",
    "A -> \"a\" A [0.5] | B [0.5]\n",
    "B -> \"b\" [1.0]\n",
    "\"\"\"\n",
    "\n",
    "G = Grammar().from_string(g)\n",
    "samples = G.sample(10)\n",
    "print(samples)\n",
    "print(G.is_valid(samples[0]))"
   ]
  },
  {
   "cell_type": "markdown",
   "id": "48340f60",
   "metadata": {},
   "source": [
    "### Verbose Grammar"
   ]
  },
  {
   "cell_type": "code",
   "execution_count": 175,
   "id": "0f3e4652",
   "metadata": {},
   "outputs": [
    {
     "name": "stdout",
     "output_type": "stream",
     "text": [
      "B likes swimming\n",
      "B likes swimming\n",
      "B likes swimming and A likes swimming and A likes swimming\n",
      "B likes swimming\n",
      "C likes swimming or C likes swimming\n"
     ]
    }
   ],
   "source": [
    "g = \"\"\"\n",
    "S -> SEN [1.0]\n",
    "SEN -> SE1 [0.5] | SE1 CONJ SEN [0.5]\n",
    "SE1 -> SUB PRE OBJ [1.0]\n",
    "CONJ -> 'or' [0.1] | 'and' [0.9]\n",
    "SUB -> 'A' [0.3] | 'B' [0.4] | \"C\" [0.3]\n",
    "PRE -> 'likes' [0.8] | 'does' [0.2]\n",
    "OBJ -> 'hiking' [0.2] | 'swimming' [0.8]\n",
    "\"\"\"\n",
    "\n",
    "G = Grammar().from_string(g)\n",
    "samples = G.sample(5)\n",
    "#\n",
    "for sample in samples:\n",
    "    print(\" \".join(sample))"
   ]
  },
  {
   "cell_type": "code",
   "execution_count": 176,
   "id": "55f9b99c",
   "metadata": {},
   "outputs": [
    {
     "name": "stdout",
     "output_type": "stream",
     "text": [
      "True\n",
      "False\n",
      "[0.024]\n"
     ]
    }
   ],
   "source": [
    "# validate samples\n",
    "s1 = \"A does swimming\"\n",
    "s2 = \"A does B\"\n",
    "print(G.is_valid(s1.split()))\n",
    "print(G.is_valid(s2.split()))\n",
    "\n",
    "# prob of generating a sample\n",
    "print(G.get_probs(s1.split()))"
   ]
  },
  {
   "cell_type": "code",
   "execution_count": 178,
   "id": "eefe8baa",
   "metadata": {},
   "outputs": [
    {
     "name": "stdout",
     "output_type": "stream",
     "text": [
      "(S (SEN (SE1 (SUB A) (PRE does) (OBJ swimming)))) (p=0.024)\n"
     ]
    }
   ],
   "source": [
    "for subtree in G.parse(s1.split()):\n",
    "    print(subtree)"
   ]
  },
  {
   "cell_type": "code",
   "execution_count": 179,
   "id": "539158dc",
   "metadata": {},
   "outputs": [
    {
     "data": {
      "image/png": "[encoded data removed]",
      "text/plain": [
       "ProbabilisticTree('S', [ProbabilisticTree('SEN', [ProbabilisticTree('SE1', [ProbabilisticTree('SUB', ['A']) (p=0.3), ProbabilisticTree('PRE', ['does']) (p=0.2), ProbabilisticTree('OBJ', ['swimming']) (p=0.8)]) (p=0.048)]) (p=0.024)]) (p=0.024)"
      ]
     },
     "execution_count": 179,
     "metadata": {},
     "output_type": "execute_result"
    }
   ],
   "source": [
    "subtree"
   ]
  },
  {
   "cell_type": "markdown",
   "id": "1cce0030",
   "metadata": {},
   "source": [
    "### Ambiguous Grammars"
   ]
  },
  {
   "cell_type": "code",
   "execution_count": 180,
   "id": "f6e875bd",
   "metadata": {},
   "outputs": [
    {
     "name": "stdout",
     "output_type": "stream",
     "text": [
      "[['a'], ['a'], ['a'], ['a'], ['a'], ['a'], ['a'], ['a'], ['a'], ['a']]\n"
     ]
    }
   ],
   "source": [
    "g = \"\"\"\n",
    "S -> A [0.5] | B [0.5]\n",
    "A -> 'a' [1.0]\n",
    "B -> 'a' [1.0]\n",
    "\"\"\"\n",
    "G = Grammar().from_string(g)\n",
    "samples = G.sample(10)\n",
    "print(samples)"
   ]
  },
  {
   "cell_type": "code",
   "execution_count": 181,
   "id": "3ab9086f",
   "metadata": {},
   "outputs": [
    {
     "name": "stdout",
     "output_type": "stream",
     "text": [
      "True [0.5]\n",
      "True [0.5]\n",
      "True [0.5]\n",
      "True [0.5]\n",
      "True [0.5]\n",
      "True [0.5]\n",
      "True [0.5]\n",
      "True [0.5]\n",
      "True [0.5]\n",
      "True [0.5]\n"
     ]
    }
   ],
   "source": [
    "for sample in samples:\n",
    "    print(G.is_valid(sample), G.get_probs(sample))"
   ]
  },
  {
   "cell_type": "code",
   "execution_count": null,
   "id": "a4f2e633",
   "metadata": {},
   "outputs": [],
   "source": [
    "\n"
   ]
  }
 ],
 "metadata": {
  "kernelspec": {
   "display_name": "Python 3",
   "language": "python",
   "name": "python3"
  },
  "language_info": {
   "codemirror_mode": {
    "name": "ipython",
    "version": 3
   },
   "file_extension": ".py",
   "mimetype": "text/x-python",
   "name": "python",
   "nbconvert_exporter": "python",
   "pygments_lexer": "ipython3",
   "version": "3.8.10"
  },
  "latex_envs": {
   "LaTeX_envs_menu_present": true,
   "autoclose": false,
   "autocomplete": true,
   "bibliofile": "biblio.bib",
   "cite_by": "apalike",
   "current_citInitial": 1,
   "eqLabelWithNumbers": true,
   "eqNumInitial": 1,
   "hotkeys": {
    "equation": "Ctrl-E",
    "itemize": "Ctrl-I"
   },
   "labels_anchors": false,
   "latex_user_defs": false,
   "report_style_numbering": false,
   "user_envs_cfg": false
  }
 },
 "nbformat": 4,
 "nbformat_minor": 5
}
